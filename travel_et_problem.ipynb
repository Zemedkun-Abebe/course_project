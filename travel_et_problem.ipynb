{
 "cells": [
  {
   "cell_type": "code",
   "execution_count": null,
   "metadata": {},
   "outputs": [],
   "source": [
    "import sys\n",
    "from PyQt5.QtWidgets import QApplication, QWidget, QLabel, QLineEdit, QPushButton, QVBoxLayout, QHBoxLayout, QComboBox\n",
    "import networkx as nx\n",
    "import matplotlib.pyplot as plt\n",
    "import city_node_list\n",
    "import ucs_problem\n",
    "import a_star_travel_et\n",
    "import adversarial_search_problem\n",
    "\n",
    "class CityGraph:\n",
    "    def __init__(self, city_grapy):\n",
    "        self.connections = city_grapy\n",
    "\n",
    "    def cities(self):\n",
    "        return list(self.connections.keys())\n",
    "\n",
    "    def get(self, a, b=None):\n",
    "        links = self.connections.get(a)\n",
    "        if b is None:\n",
    "            return links\n",
    "        \n",
    "class StateSpaceSearch:\n",
    "    def __init__(self, city_graph=None, initial_state=None, goal_state=None, strategy=None,):\n",
    "        self.city_graph = city_graph\n",
    "        self.initial_state = initial_state\n",
    "        self.goal_state = goal_state\n",
    "        self.strategy = strategy\n",
    "\n",
    "    def search(self):\n",
    "        if self.strategy == 'BFS':\n",
    "            return self.breadth_first_search()\n",
    "        elif self.strategy == 'DFS':\n",
    "            return self.depth_first_search()\n",
    "        elif self.strategy == 'UCS':\n",
    "            return self.uniform_cost_search()\n",
    "        elif self.strategy == 'CALCULAT_UCS':\n",
    "            return self.calculate_ucs()\n",
    "        elif self.strategy == 'ASTARS':\n",
    "            return self.astar_search()\n",
    "        elif self.strategy == 'ADVERSARIALS':\n",
    "            return self.adversarial_search()\n",
    "        else:\n",
    "            raise ValueError('Invalid search strategy. Please choose either \"BFS\" or \"DFS\".')\n",
    "\n",
    "    def breadth_first_search(self):\n",
    "        visited = set()\n",
    "        queue = [[self.initial_state]]\n",
    "\n",
    "        while queue:\n",
    "            path = queue.pop(0)\n",
    "            node = path[-1]\n",
    "\n",
    "            if node == self.goal_state:\n",
    "                return path\n",
    "\n",
    "            if node not in visited:\n",
    "                visited.add(node)\n",
    "                neighbors = self.city_graph.get(node)\n",
    "\n",
    "                for neighbor in neighbors:\n",
    "                    new_path = list(path)\n",
    "                    new_path.append(neighbor)\n",
    "                    queue.append(new_path)\n",
    "\n",
    "        return None\n",
    "\n",
    "    def depth_first_search(self):\n",
    "        visited = set()\n",
    "        stack = [[self.initial_state]]\n",
    "\n",
    "        while stack:\n",
    "            path = stack.pop()\n",
    "            node = path[-1]\n",
    "\n",
    "            if node == self.goal_state:\n",
    "                return path\n",
    "\n",
    "            if node not in visited:\n",
    "                visited.add(node)\n",
    "                neighbors = self.city_graph.get(node)\n",
    "\n",
    "                for neighbor in neighbors:\n",
    "                    new_path = list(path)\n",
    "                    new_path.append(neighbor)\n",
    "                    stack.append(new_path)\n",
    "\n",
    "        return None\n",
    "    \n",
    "    def uniform_cost_search(self):\n",
    "        graph = ucs_problem.Graph(city_node_list.city_node_ucs)\n",
    "        solution, cost = graph.uniform_cost(self.initial_state, self.goal_state, True)\n",
    "        return solution\n",
    "    \n",
    "    def calculate_ucs(self):\n",
    "        graph = ucs_problem.Graph(city_node_list.city_node_ucs)\n",
    "        goals = [\"Axum\", \"Gondar\", \"Lalibella\", \"Babile\", \"Jimma\", \"Bale\", \"Sof Oumer\", \"Arba Minchi\"]\n",
    "        start = \"Addis Ababa\"\n",
    "        result = graph.calc_UCS(start, goals)\n",
    "        print(result)\n",
    "        goals = [\"Axum\", \"Gondar\", \"Lalibella\", \"Babile\", \"Bale\", \"Sof Oumer\"]\n",
    "        start = \"Arba Minchi\"\n",
    "        result = graph.calc_UCS(start,goals)\n",
    "        print(result)\n",
    "        goals = [\"Axum\", \"Gondar\", \"Lalibella\", \"Babile\", \"Sof Oumer\"]\n",
    "        start = \"Bale\"\n",
    "        result = graph.calc_UCS(start,goals)\n",
    "        print(result)\n",
    "        goals = [\"Axum\", \"Gondar\", \"Lalibella\", \"Babile\" ]\n",
    "        start = \"Sof Oumer\"\n",
    "        result = graph.calc_UCS(start,goals)\n",
    "        print(result)\n",
    "        goals = [\"Axum\", \"Gondar\", \"Lalibella\"]\n",
    "        start =  \"Babile\" \n",
    "        result = graph.calc_UCS(start,goals)\n",
    "        print(result)\n",
    "        goals = [\"Axum\", \"Gondar\"]\n",
    "        start =  \"Lalibella\" \n",
    "        result = graph.calc_UCS(start,goals)\n",
    "        # print(result)\n",
    "        goals = [\"Axum\"]\n",
    "        start =  \"Gondar\" \n",
    "        result = graph.calc_UCS(start,goals)\n",
    "        # print(result)\n",
    "        return (result)\n",
    "    \n",
    "    def astar_search(self):\n",
    "        astar = a_star_travel_et.AStarSearch(city_node_list.distances_cost, a_star_travel_et.heuristic)\n",
    "        ret = astar.search(\"Addis Ababa\", \"Moyale\", return_cost=True, return_nexp=True)\n",
    "        return (\"optimal path using A*:\", ret[0],\n",
    "                \"optimal path cost using A*:\", ret[1],\n",
    "                \"Number of states expanded during search using A*:\", ret[2])\n",
    "    def adversarial_search(self):\n",
    "        result = adversarial_search_problem.AdversarialSearch(  city_node_list.coffees_place_data,\n",
    "                            city_node_list.terminal_utilities,\n",
    "                            city_node_list.terminal,\n",
    "                            city_node_list.graph_data1,\n",
    "                            city_node_list.graph_data2\n",
    "                            )\n",
    "        first_city, second_city, third_city = result.find_cities()\n",
    "        print(\"Addis Ababa\")\n",
    "        print(first_city)\n",
    "        print(second_city)\n",
    "        print(third_city)\n",
    "    \n",
    "def main(initial_state, goal_state, strategy):\n",
    "    G = nx.DiGraph()\n",
    "    if strategy != 'UCS'and strategy is not None:\n",
    "        city = CityGraph(city_node_list.graph_data)\n",
    "        searcher = StateSpaceSearch(city, initial_state, goal_state, strategy)\n",
    "        for city, connections in city.connections.items():\n",
    "            for connection in connections:\n",
    "                G.add_edge(city, connection)\n",
    "        solution = searcher.search()\n",
    "    elif strategy == 'CALCULAT_UCS':\n",
    "        searcher = StateSpaceSearch()\n",
    "        solution = searcher.search() \n",
    "    elif strategy == 'ASTARS':\n",
    "        searcher = StateSpaceSearch()\n",
    "        solution = searcher.search() \n",
    "    elif strategy == 'ADVERSARIALS':\n",
    "        searcher = StateSpaceSearch()\n",
    "        solution = searcher.search()\n",
    "    else:\n",
    "        city = CityGraph(city_node_list.city_node_ucs)\n",
    "        searcher = StateSpaceSearch(city, initial_state, goal_state, strategy)\n",
    "        for city, connections in city.connections.items():\n",
    "            for connection in connections:\n",
    "                G.add_edge(city, connection[0])\n",
    "        solution = searcher.search()\n",
    "    if solution is None:\n",
    "        solution_nodes = []\n",
    "    else:\n",
    "        solution_nodes = solution   \n",
    "    # solution_nodes = solution  # List of solution path nodes\n",
    "    \n",
    "    node_color = {}\n",
    "    for n in G.nodes():\n",
    "        if n in solution_nodes and len(solution_nodes) > 0:\n",
    "            node_color[n] = '#00FF00'  # Color solution nodes green\n",
    "        else:\n",
    "            node_color[n] = '#E6B8B7'  # Color other nodes pink\n",
    "\n",
    "    plt.figure(figsize=(40, 40))\n",
    "    \n",
    "    pos = nx.spring_layout(G, seed=34, k=0.1)\n",
    "    nx.draw_networkx(G, pos, with_labels=True, node_size=4000,  font_size=10, font_weight='bold', node_color=[node_color[n] for n in G.nodes()],  width=2)\n",
    "\n",
    "    if solution:\n",
    "        # print(f\"Solution found using {strategy}: {' -> '.join(solution)}\")\n",
    "        if strategy == 'CALCULAT_UCS':\n",
    "            plt.close()\n",
    "            solution = f\"{solution}\"\n",
    "        elif strategy == 'ASTARS':\n",
    "            plt.close()\n",
    "            solution = f\"{solution}\"\n",
    "        elif strategy == 'ADVERSARIALS':\n",
    "            plt.close()\n",
    "            solution = f\"{solution}\"\n",
    "        else:\n",
    "            plt.suptitle(f\"Solution found using {strategy}: {' -> '.join(solution)}\", fontsize=25, y=0.86)\n",
    "    else:\n",
    "        print(f\"No solution found using {strategy}\")\n",
    "\n",
    "    plt.show()\n",
    "    return solution\n",
    "\n",
    "class AppDemo(QWidget):\n",
    "    def __init__(self):\n",
    "        super().__init__()\n",
    "        self.initUI()\n",
    "\n",
    "    def initUI(self):\n",
    "        self.setWindowTitle('City Graph Search')\n",
    "        self.setFixedSize(800, 200)\n",
    "        self.setWindowTitle('City Graph Search')\n",
    "\n",
    "        vbox = QVBoxLayout()\n",
    "\n",
    "        hbox1 = QHBoxLayout()\n",
    "        hbox1.addWidget(QLabel('Initial State:'))\n",
    "        self.initial_state_input = QLineEdit()\n",
    "        hbox1.addWidget(self.initial_state_input)\n",
    "        vbox.addLayout(hbox1)\n",
    "\n",
    "        hbox2 = QHBoxLayout()\n",
    "        hbox2.addWidget(QLabel('Goal State:'))\n",
    "        self.goal_state_input = QLineEdit()\n",
    "        hbox2.addWidget(self.goal_state_input)\n",
    "        vbox.addLayout(hbox2)\n",
    "\n",
    "        hbox3 = QHBoxLayout()\n",
    "        hbox3.addWidget(QLabel('Strategy:'))\n",
    "        self.strategy_input = QComboBox()\n",
    "        self.strategy_input.addItem('BFS')\n",
    "        self.strategy_input.addItem('DFS')\n",
    "        self.strategy_input.addItem('UCS')\n",
    "        self.strategy_input.addItem('CALCULAT_UCS')\n",
    "        self.strategy_input.addItem('ASTARS')\n",
    "        self.strategy_input.addItem('ADVERSARIALS')\n",
    "        hbox3.addWidget(self.strategy_input)\n",
    "        vbox.addLayout(hbox3)\n",
    "\n",
    "        search_button = QPushButton('Search', self)\n",
    "        search_button.clicked.connect(self.on_click)\n",
    "        vbox.addWidget(search_button)\n",
    "\n",
    "        self.solution_label = QLabel()\n",
    "        vbox.addWidget(self.solution_label)\n",
    "\n",
    "        exit_button = QPushButton('Exit', self)\n",
    "        exit_button.clicked.connect(self.close)\n",
    "        vbox.addWidget(exit_button)\n",
    "\n",
    "        self.setLayout(vbox)\n",
    "        \n",
    "        \n",
    "    def on_click(self):\n",
    "        initial_state = self.initial_state_input.text()\n",
    "        goal_state = self.goal_state_input.text()\n",
    "        strategy = self.strategy_input.currentText()\n",
    "\n",
    "        solution = main(initial_state, goal_state, strategy)\n",
    "        \n",
    "        if solution:\n",
    "            if strategy == \"CALCULAT_UCS\":\n",
    "                # solution_str = ' -> '.join(solution)\n",
    "                solution = f\"{solution}\"\n",
    "                self.solution_label.setText(f\"Solution found using {strategy}: {solution}\")\n",
    "            elif strategy == 'ASTARS':\n",
    "                plt.close()\n",
    "                solution = f\"{solution}\"\n",
    "            elif strategy == 'ADVERSARIALS':\n",
    "                plt.close()\n",
    "                solution = f\"{solution}\"\n",
    "            else:\n",
    "                solution_str = ' -> '.join(solution)\n",
    "                self.solution_label.setText(f\"Solution found using {strategy}: {solution_str}\")\n",
    "        else:\n",
    "            self.solution_label.setText(f\"No solution found using {strategy}\")\n",
    "        \n",
    "\n",
    "\n",
    "if __name__ == '__main__':\n",
    "    app = QApplication(sys.argv)\n",
    "    demo = AppDemo()\n",
    "    demo.show()\n",
    "    sys.exit(app.exec_())"
   ]
  },
  {
   "attachments": {},
   "cell_type": "markdown",
   "metadata": {},
   "source": []
  },
  {
   "cell_type": "code",
   "execution_count": null,
   "metadata": {},
   "outputs": [],
   "source": []
  },
  {
   "cell_type": "code",
   "execution_count": null,
   "metadata": {},
   "outputs": [],
   "source": []
  },
  {
   "cell_type": "code",
   "execution_count": null,
   "metadata": {},
   "outputs": [],
   "source": []
  },
  {
   "cell_type": "code",
   "execution_count": null,
   "metadata": {},
   "outputs": [],
   "source": []
  },
  {
   "cell_type": "code",
   "execution_count": null,
   "metadata": {},
   "outputs": [],
   "source": []
  },
  {
   "cell_type": "code",
   "execution_count": null,
   "metadata": {},
   "outputs": [],
   "source": []
  },
  {
   "cell_type": "code",
   "execution_count": null,
   "metadata": {},
   "outputs": [],
   "source": []
  },
  {
   "cell_type": "code",
   "execution_count": null,
   "metadata": {},
   "outputs": [],
   "source": []
  },
  {
   "cell_type": "code",
   "execution_count": null,
   "metadata": {},
   "outputs": [],
   "source": []
  },
  {
   "cell_type": "code",
   "execution_count": null,
   "metadata": {},
   "outputs": [],
   "source": []
  },
  {
   "cell_type": "code",
   "execution_count": null,
   "metadata": {},
   "outputs": [],
   "source": []
  },
  {
   "cell_type": "code",
   "execution_count": null,
   "metadata": {},
   "outputs": [],
   "source": []
  },
  {
   "cell_type": "code",
   "execution_count": null,
   "metadata": {},
   "outputs": [],
   "source": []
  },
  {
   "cell_type": "code",
   "execution_count": null,
   "metadata": {},
   "outputs": [],
   "source": []
  },
  {
   "cell_type": "code",
   "execution_count": null,
   "metadata": {},
   "outputs": [],
   "source": []
  },
  {
   "cell_type": "code",
   "execution_count": null,
   "metadata": {},
   "outputs": [],
   "source": []
  },
  {
   "cell_type": "code",
   "execution_count": null,
   "metadata": {},
   "outputs": [],
   "source": []
  },
  {
   "cell_type": "code",
   "execution_count": null,
   "metadata": {},
   "outputs": [],
   "source": []
  },
  {
   "cell_type": "code",
   "execution_count": null,
   "metadata": {},
   "outputs": [],
   "source": []
  },
  {
   "cell_type": "code",
   "execution_count": null,
   "metadata": {},
   "outputs": [],
   "source": []
  },
  {
   "cell_type": "code",
   "execution_count": null,
   "metadata": {},
   "outputs": [],
   "source": []
  },
  {
   "cell_type": "code",
   "execution_count": null,
   "metadata": {},
   "outputs": [],
   "source": []
  },
  {
   "cell_type": "code",
   "execution_count": null,
   "metadata": {},
   "outputs": [],
   "source": []
  },
  {
   "cell_type": "code",
   "execution_count": null,
   "metadata": {},
   "outputs": [],
   "source": []
  },
  {
   "cell_type": "code",
   "execution_count": null,
   "metadata": {},
   "outputs": [],
   "source": []
  },
  {
   "cell_type": "code",
   "execution_count": null,
   "metadata": {},
   "outputs": [],
   "source": []
  },
  {
   "cell_type": "code",
   "execution_count": null,
   "metadata": {},
   "outputs": [],
   "source": []
  },
  {
   "cell_type": "code",
   "execution_count": null,
   "metadata": {},
   "outputs": [],
   "source": []
  },
  {
   "cell_type": "code",
   "execution_count": null,
   "metadata": {},
   "outputs": [],
   "source": []
  },
  {
   "cell_type": "code",
   "execution_count": null,
   "metadata": {},
   "outputs": [],
   "source": []
  },
  {
   "cell_type": "code",
   "execution_count": null,
   "metadata": {},
   "outputs": [],
   "source": []
  },
  {
   "cell_type": "code",
   "execution_count": null,
   "metadata": {},
   "outputs": [],
   "source": []
  },
  {
   "cell_type": "code",
   "execution_count": null,
   "metadata": {},
   "outputs": [],
   "source": []
  },
  {
   "cell_type": "code",
   "execution_count": null,
   "metadata": {},
   "outputs": [],
   "source": []
  },
  {
   "cell_type": "code",
   "execution_count": null,
   "metadata": {},
   "outputs": [],
   "source": []
  },
  {
   "cell_type": "code",
   "execution_count": null,
   "metadata": {},
   "outputs": [],
   "source": []
  },
  {
   "cell_type": "code",
   "execution_count": null,
   "metadata": {},
   "outputs": [],
   "source": []
  },
  {
   "cell_type": "code",
   "execution_count": null,
   "metadata": {},
   "outputs": [],
   "source": []
  },
  {
   "cell_type": "code",
   "execution_count": null,
   "metadata": {},
   "outputs": [],
   "source": []
  },
  {
   "cell_type": "code",
   "execution_count": null,
   "metadata": {},
   "outputs": [],
   "source": []
  },
  {
   "cell_type": "code",
   "execution_count": null,
   "metadata": {},
   "outputs": [],
   "source": []
  },
  {
   "cell_type": "code",
   "execution_count": null,
   "metadata": {},
   "outputs": [],
   "source": []
  },
  {
   "cell_type": "code",
   "execution_count": null,
   "metadata": {},
   "outputs": [],
   "source": []
  },
  {
   "cell_type": "code",
   "execution_count": null,
   "metadata": {},
   "outputs": [],
   "source": []
  },
  {
   "cell_type": "code",
   "execution_count": null,
   "metadata": {},
   "outputs": [],
   "source": []
  },
  {
   "attachments": {},
   "cell_type": "markdown",
   "metadata": {},
   "source": []
  },
  {
   "cell_type": "code",
   "execution_count": null,
   "metadata": {},
   "outputs": [],
   "source": []
  },
  {
   "cell_type": "code",
   "execution_count": null,
   "metadata": {},
   "outputs": [],
   "source": []
  },
  {
   "attachments": {},
   "cell_type": "markdown",
   "metadata": {},
   "source": []
  },
  {
   "attachments": {},
   "cell_type": "markdown",
   "metadata": {},
   "source": []
  },
  {
   "attachments": {},
   "cell_type": "markdown",
   "metadata": {},
   "source": []
  },
  {
   "cell_type": "code",
   "execution_count": null,
   "metadata": {},
   "outputs": [],
   "source": []
  },
  {
   "attachments": {},
   "cell_type": "markdown",
   "metadata": {},
   "source": []
  },
  {
   "cell_type": "code",
   "execution_count": null,
   "metadata": {},
   "outputs": [],
   "source": []
  },
  {
   "attachments": {},
   "cell_type": "markdown",
   "metadata": {},
   "source": [
    "Create the cities and their connections:"
   ]
  },
  {
   "cell_type": "code",
   "execution_count": null,
   "metadata": {},
   "outputs": [],
   "source": []
  },
  {
   "attachments": {},
   "cell_type": "markdown",
   "metadata": {},
   "source": []
  },
  {
   "cell_type": "code",
   "execution_count": null,
   "metadata": {},
   "outputs": [],
   "source": []
  },
  {
   "attachments": {},
   "cell_type": "markdown",
   "metadata": {},
   "source": []
  },
  {
   "cell_type": "code",
   "execution_count": null,
   "metadata": {},
   "outputs": [],
   "source": []
  },
  {
   "attachments": {},
   "cell_type": "markdown",
   "metadata": {},
   "source": []
  },
  {
   "attachments": {},
   "cell_type": "markdown",
   "metadata": {},
   "source": []
  },
  {
   "cell_type": "code",
   "execution_count": null,
   "metadata": {},
   "outputs": [],
   "source": [
    "\n",
    "\n"
   ]
  },
  {
   "attachments": {},
   "cell_type": "markdown",
   "metadata": {},
   "source": []
  },
  {
   "cell_type": "code",
   "execution_count": null,
   "metadata": {},
   "outputs": [],
   "source": []
  },
  {
   "attachments": {},
   "cell_type": "markdown",
   "metadata": {},
   "source": []
  },
  {
   "cell_type": "code",
   "execution_count": null,
   "metadata": {},
   "outputs": [],
   "source": [
    "\n",
    "\n"
   ]
  },
  {
   "cell_type": "code",
   "execution_count": null,
   "metadata": {},
   "outputs": [],
   "source": []
  },
  {
   "cell_type": "code",
   "execution_count": null,
   "metadata": {},
   "outputs": [],
   "source": []
  },
  {
   "cell_type": "code",
   "execution_count": null,
   "metadata": {},
   "outputs": [],
   "source": []
  }
 ],
 "metadata": {
  "kernelspec": {
   "display_name": ".env",
   "language": "python",
   "name": "python3"
  },
  "language_info": {
   "codemirror_mode": {
    "name": "ipython",
    "version": 3
   },
   "file_extension": ".py",
   "mimetype": "text/x-python",
   "name": "python",
   "nbconvert_exporter": "python",
   "pygments_lexer": "ipython3",
   "version": "3.11.1"
  },
  "orig_nbformat": 4
 },
 "nbformat": 4,
 "nbformat_minor": 2
}
